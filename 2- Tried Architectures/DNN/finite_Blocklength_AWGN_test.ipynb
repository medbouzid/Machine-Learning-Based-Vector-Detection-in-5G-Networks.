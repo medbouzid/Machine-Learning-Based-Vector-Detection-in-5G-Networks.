{
  "nbformat": 4,
  "nbformat_minor": 0,
  "metadata": {
    "accelerator": "GPU",
    "anaconda-cloud": {},
    "colab": {
      "name": "finite_Blocklength_AWGN_test.ipynb",
      "provenance": [],
      "collapsed_sections": []
    },
    "kernelspec": {
      "display_name": "Python 3",
      "language": "python",
      "name": "python3"
    },
    "language_info": {
      "codemirror_mode": {
        "name": "ipython",
        "version": 3
      },
      "file_extension": ".py",
      "mimetype": "text/x-python",
      "name": "python",
      "nbconvert_exporter": "python",
      "pygments_lexer": "ipython3",
      "version": "3.6.3"
    }
  },
  "cells": [
    {
      "cell_type": "code",
      "metadata": {
        "colab": {
          "base_uri": "https://localhost:8080/"
        },
        "id": "PONmFHXaBP-H",
        "outputId": "318c6297-28b9-4b22-adb7-900c7b003f4f"
      },
      "source": [
        "from google.colab import drive\n",
        "drive.mount('/content/drive')"
      ],
      "execution_count": null,
      "outputs": [
        {
          "output_type": "stream",
          "text": [
            "Mounted at /content/drive\n"
          ],
          "name": "stdout"
        }
      ]
    },
    {
      "cell_type": "code",
      "metadata": {
        "id": "g9EL48TFOnMu"
      },
      "source": [
        "# importing libs\n",
        "import numpy as np\n",
        "import tensorflow as tf\n",
        "from keras import backend as K\n",
        "from keras.layers import Input, Lambda,Dense, GaussianNoise\n",
        "from keras.models import Model\n",
        "from keras import regularizers\n",
        "#from keras.layers.normalization import BatchNormalization\n",
        "from tensorflow.keras.optimizers import Adam\n",
        "import random as rn"
      ],
      "execution_count": null,
      "outputs": []
    },
    {
      "cell_type": "code",
      "metadata": {
        "colab": {
          "base_uri": "https://localhost:8080/"
        },
        "id": "QlcPUlP5OnM2",
        "outputId": "5302650f-3246-4fde-bb72-8ec5fd25d815"
      },
      "source": [
        "# defining parameters\n",
        "n = 128 \n",
        "Mmod= 16\n",
        "R = 0.5\n",
        "kmod= int(np.log2(Mmod))\n",
        "n_coded = n*kmod\n",
        "k=int(n_coded*R)\n",
        "N=100000\n",
        "print ('k:',k,'n_coded:',n_coded,'n:',n,'R:',R,'M_mod:',Mmod)"
      ],
      "execution_count": null,
      "outputs": [
        {
          "output_type": "stream",
          "text": [
            "k: 256 n_coded: 512 n: 128 R: 0.5 M_mod: 16\n"
          ],
          "name": "stdout"
        }
      ]
    },
    {
      "cell_type": "code",
      "metadata": {
        "id": "8JqGiqzEwYDE"
      },
      "source": [
        "data=np.random.randint(0,2,size=(N,k))\n",
        "val_data=np.random.randint(0,2,size=((200000,k)))"
      ],
      "execution_count": null,
      "outputs": []
    },
    {
      "cell_type": "code",
      "metadata": {
        "colab": {
          "base_uri": "https://localhost:8080/"
        },
        "id": "Ai4PgnkUOnM4",
        "outputId": "eb614ce0-de96-49a8-b65c-5d25d21a962b"
      },
      "source": [
        "#data = np.array(data)\n",
        "print (data.shape)"
      ],
      "execution_count": null,
      "outputs": [
        {
          "output_type": "stream",
          "text": [
            "(4000000, 64)\n"
          ],
          "name": "stdout"
        }
      ]
    },
    {
      "cell_type": "code",
      "metadata": {
        "id": "xAXSi-qqMdrv"
      },
      "source": [
        "lr=0.0001\n",
        "Eb_N0db=2\n",
        "Eb_N0=10.0**(Eb_N0db/10.0)"
      ],
      "execution_count": null,
      "outputs": []
    },
    {
      "cell_type": "code",
      "metadata": {
        "id": "YLMEnHWAOnM5"
      },
      "source": [
        "# defining autoencoder and it's layer\n",
        "input_signal = Input(shape=(k,))\n",
        "encoded = Dense(n_coded, activation='elu')(input_signal)\n",
        "encoded1 = Dense(2*n, activation='linear')(encoded)\n",
        "encoded2 = Dense(2*n, activation='elu')(encoded1)\n",
        "encoded3 = Dense(2*n, activation='linear')(encoded2)\n",
        "\n",
        "encoded4 = Lambda(lambda x: x / K.sqrt(K.mean(x**2)))(encoded3) #average power constraint\n",
        "#encoded4 = BatchNormalization(momentum=0, center=False, scale=False)(encoded3)\n",
        "#encoded4 = encoded3 / tf.sqrt(tf.reduce_mean(tf.square(encoded3)))\n",
        "#encoded4 = Lambda(lambda x: x / K.sqrt(K.sum(x**2)/n))(encoded3) \n",
        "#encoded4 = Lambda(lambda x: np.sqrt(n)*K.l2_normalize(x,axis=1))(encoded3)\n",
        "#encoded4 = Lambda(lambda x: (n_coded**0.5) * (x / LA.norm(x,axis=1)[:, None]))(encoded3)\n",
        "\n",
        "\n",
        "encoded5 = GaussianNoise(np.sqrt(1/(2*R*kmod*Eb_N0)))(encoded4)\n",
        "#encoded5 = GaussianNoise(np.sqrt(0.5))(encoded4)\n",
        "\n",
        "\n",
        "decoded = Dense(2*n, activation='elu')(encoded5)\n",
        "decoded1 = Dense(n_coded, activation='linear')(decoded)\n",
        "decoded2 = Dense(k, activation='sigmoid')(decoded1)\n",
        "\n",
        "autoencoder = Model(input_signal, decoded2)\n",
        "adam = Adam(lr)\n",
        "#adagrad=Adagrad(lr)\n",
        "autoencoder.compile(optimizer=adam, loss='binary_crossentropy')"
      ],
      "execution_count": null,
      "outputs": []
    },
    {
      "cell_type": "code",
      "metadata": {
        "colab": {
          "base_uri": "https://localhost:8080/"
        },
        "id": "8zod3REkOnM6",
        "outputId": "b99c0db6-9094-4571-c7c0-a8ce3b090f6b"
      },
      "source": [
        "print (autoencoder.summary())"
      ],
      "execution_count": null,
      "outputs": [
        {
          "output_type": "stream",
          "text": [
            "Model: \"model_1\"\n",
            "_________________________________________________________________\n",
            "Layer (type)                 Output Shape              Param #   \n",
            "=================================================================\n",
            "input_2 (InputLayer)         [(None, 256)]             0         \n",
            "_________________________________________________________________\n",
            "dense_7 (Dense)              (None, 512)               131584    \n",
            "_________________________________________________________________\n",
            "dense_8 (Dense)              (None, 256)               131328    \n",
            "_________________________________________________________________\n",
            "dense_9 (Dense)              (None, 256)               65792     \n",
            "_________________________________________________________________\n",
            "dense_10 (Dense)             (None, 256)               65792     \n",
            "_________________________________________________________________\n",
            "lambda_1 (Lambda)            (None, 256)               0         \n",
            "_________________________________________________________________\n",
            "gaussian_noise_1 (GaussianNo (None, 256)               0         \n",
            "_________________________________________________________________\n",
            "dense_11 (Dense)             (None, 256)               65792     \n",
            "_________________________________________________________________\n",
            "dense_12 (Dense)             (None, 512)               131584    \n",
            "_________________________________________________________________\n",
            "dense_13 (Dense)             (None, 256)               131328    \n",
            "=================================================================\n",
            "Total params: 723,200\n",
            "Trainable params: 723,200\n",
            "Non-trainable params: 0\n",
            "_________________________________________________________________\n",
            "None\n"
          ],
          "name": "stdout"
        }
      ]
    },
    {
      "cell_type": "code",
      "metadata": {
        "id": "MJw-5GCnOnM6",
        "scrolled": true
      },
      "source": [
        "autoencoder.fit(data, data,\n",
        "                epochs=100,\n",
        "                shuffle=True,\n",
        "                batch_size=2000,\n",
        "                validation_data=(val_data, val_data))"
      ],
      "execution_count": null,
      "outputs": []
    },
    {
      "cell_type": "code",
      "metadata": {
        "colab": {
          "base_uri": "https://localhost:8080/",
          "height": 312
        },
        "id": "-KmKQRcokYug",
        "outputId": "0c43637c-8877-46e8-d7c5-0b8486723c33"
      },
      "source": [
        "import matplotlib.pyplot as plt\n",
        "plt.figure()\n",
        "plt.plot(autoencoder.history.history['loss'])\n",
        "plt.plot(autoencoder.history.history['val_loss'])\n",
        "\n",
        "plt.title('model loss')\n",
        "plt.ylabel('loss')\n",
        "plt.xlabel('epoch')"
      ],
      "execution_count": null,
      "outputs": [
        {
          "output_type": "execute_result",
          "data": {
            "text/plain": [
              "Text(0.5, 0, 'epoch')"
            ]
          },
          "metadata": {
            "tags": []
          },
          "execution_count": 242
        },
        {
          "output_type": "display_data",
          "data": {
            "image/png": "[encoded data removed]",
            "text/plain": [
              "<Figure size 432x288 with 1 Axes>"
            ]
          },
          "metadata": {
            "tags": [],
            "needs_background": "light"
          }
        }
      ]
    },
    {
      "cell_type": "code",
      "metadata": {
        "colab": {
          "base_uri": "https://localhost:8080/"
        },
        "id": "Gjov8mO3BVdO",
        "outputId": "d7e7ddff-4429-4a7f-cee8-8f272eb48666"
      },
      "source": [
        "%cd /content/drive/MyDrive/model"
      ],
      "execution_count": null,
      "outputs": [
        {
          "output_type": "stream",
          "text": [
            "/content/drive/MyDrive/model\n"
          ],
          "name": "stdout"
        }
      ]
    },
    {
      "cell_type": "code",
      "metadata": {
        "colab": {
          "base_uri": "https://localhost:8080/"
        },
        "collapsed": true,
        "id": "rzi_BI9UOnM7",
        "outputId": "1c9bcbdf-0100-4352-9056-f496d988f1ef"
      },
      "source": [
        "autoencoder.save('autoencoder(0.5).model')"
      ],
      "execution_count": null,
      "outputs": [
        {
          "output_type": "stream",
          "text": [
            "INFO:tensorflow:Assets written to: test(0.125).model/assets\n"
          ],
          "name": "stdout"
        }
      ]
    },
    {
      "cell_type": "code",
      "metadata": {
        "id": "3jVIHlTN9pu7"
      },
      "source": [
        "from keras.models import load_model\n",
        "autoencoder=load_model('autoencoder(0.5).model')\n"
      ],
      "execution_count": null,
      "outputs": []
    },
    {
      "cell_type": "code",
      "metadata": {
        "id": "O7cDinXC_e9Z"
      },
      "source": [
        "# making encoder from full autoencoder\n",
        "input_signal = Input(shape=(k,))\n",
        "\n",
        "enc = autoencoder.layers[1](input_signal)\n",
        "enc1 = autoencoder.layers[2](enc)\n",
        "enc2 = autoencoder.layers[3](enc1)\n",
        "enc3 = autoencoder.layers[4](enc2)\n",
        "enc4 = autoencoder.layers[5](enc3)\n",
        "encoder = Model(input_signal, enc4)"
      ],
      "execution_count": null,
      "outputs": []
    },
    {
      "cell_type": "code",
      "metadata": {
        "collapsed": true,
        "id": "BeyAKScmOnM8"
      },
      "source": [
        "# making decoder from full autoencoder\n",
        "encoded_input = Input(shape=(2*n,))\n",
        "\n",
        "deco = autoencoder.layers[-3](encoded_input)\n",
        "deco1 = autoencoder.layers[-2](deco)\n",
        "deco2 = autoencoder.layers[-1](deco1)\n",
        "decoder = Model(encoded_input, deco2)"
      ],
      "execution_count": null,
      "outputs": []
    },
    {
      "cell_type": "code",
      "metadata": {
        "id": "yXBc-fGvWD5S"
      },
      "source": [
        "test_data=np.random.randint(0,2,size=(100000,k))\n"
      ],
      "execution_count": null,
      "outputs": []
    },
    {
      "cell_type": "code",
      "metadata": {
        "colab": {
          "base_uri": "https://localhost:8080/"
        },
        "id": "cWj812gHp1HR",
        "outputId": "43a893e3-8bbb-4290-e6f2-ae4d1559dd5b"
      },
      "source": [
        "print(test_data.shape)"
      ],
      "execution_count": null,
      "outputs": [
        {
          "output_type": "stream",
          "text": [
            "(100000, 192)\n"
          ],
          "name": "stdout"
        }
      ]
    },
    {
      "cell_type": "markdown",
      "metadata": {
        "id": "U7tspDRXfe1S"
      },
      "source": [
        "## BLER"
      ]
    },
    {
      "cell_type": "markdown",
      "metadata": {
        "id": "2StRsUc4xWcC"
      },
      "source": [
        "#### *Block* Error rate at a specif SNR"
      ]
    },
    {
      "cell_type": "code",
      "metadata": {
        "id": "lajzDhGUybOc"
      },
      "source": [
        "EbNodB = 8\n",
        "EbNo=10.0**(EbNodB/10.0)\n",
        "noise_std = np.sqrt(1/(2*R*kmod*EbNo))\n",
        "noise_mean = 0\n",
        "no_errors = 0\n",
        "noise = noise_std * np.random.randn(100000,2*n)\n",
        "encoded_signal = encoder.predict(test_data) \n",
        "final_signal = encoded_signal + noise"
      ],
      "execution_count": null,
      "outputs": []
    },
    {
      "cell_type": "code",
      "metadata": {
        "id": "m3hMgbWQuhxv"
      },
      "source": [
        "pred_final_signal =  decoder.predict(final_signal)"
      ],
      "execution_count": null,
      "outputs": []
    },
    {
      "cell_type": "code",
      "metadata": {
        "colab": {
          "base_uri": "https://localhost:8080/"
        },
        "id": "85uV0WN1swEd",
        "outputId": "e22b733b-0ff4-4ec3-9c3d-0c2e7f70d7b6"
      },
      "source": [
        "bler = np.max((pred_final_signal.round()!=test_data),axis=1).mean()\n",
        "print ('SNR:',EbNodB,'BLER:',bler)"
      ],
      "execution_count": null,
      "outputs": [
        {
          "output_type": "stream",
          "text": [
            "SNR: 8 BLER: 0.26913\n"
          ],
          "name": "stdout"
        }
      ]
    },
    {
      "cell_type": "markdown",
      "metadata": {
        "id": "twgWDWoxbKSL"
      },
      "source": [
        "#### BLER"
      ]
    },
    {
      "cell_type": "code",
      "metadata": {
        "id": "8-8Ftb6Bglzy"
      },
      "source": [
        "EbNodB_range = list(frange(0,11,1))\n",
        "mer = [None]*len(EbNodB_range)\n",
        "for i in range(0,len(EbNodB_range)):\n",
        "    EbNo=10.0**(EbNodB_range[i]/10.0)\n",
        "    noise_std = np.sqrt(1/(2*R*kmod*EbNo))\n",
        "    noise_mean = 0\n",
        "    no_errors = 0\n",
        "    noise = noise_std * np.random.randn(1000000,2*n)\n",
        "    encoded_signal = encoder.predict(test_data) \n",
        "    final_signal = encoded_signal + noise\n",
        "    pred_final_signal =  decoder.predict(final_signal)\n",
        "    #pred_output = np.where(pred_final_signal >= 0.5 , 1, 0)\n",
        "    mer[i] = np.max((pred_final_signal.round()!=test_data),axis=1).mean()\n",
        "    print ('SNR:',EbNodB_range[i],'MER:',mer[i])"
      ],
      "execution_count": null,
      "outputs": []
    },
    {
      "cell_type": "markdown",
      "metadata": {
        "id": "RtwrVWZ0a75t"
      },
      "source": [
        "## BER"
      ]
    },
    {
      "cell_type": "code",
      "metadata": {
        "id": "KYnT3eZ9OYRQ"
      },
      "source": [
        "def frange(x, y, jump):\n",
        "  while x < y:\n",
        "    yield x\n",
        "    x += jump"
      ],
      "execution_count": null,
      "outputs": []
    },
    {
      "cell_type": "code",
      "metadata": {
        "colab": {
          "base_uri": "https://localhost:8080/"
        },
        "id": "no_8HLgZffuT",
        "outputId": "c4c2ecb4-1e36-4ff4-86ff-bec285514da5"
      },
      "source": [
        "EbNodB_range = list(frange(0,11,1))\n",
        "ber = [None]*len(EbNodB_range)\n",
        "for i in range(0,len(EbNodB_range)):\n",
        "    EbNo=10.0**(EbNodB_range[i]/10.0)\n",
        "    noise_std = np.sqrt(1/(2*R*kmod*EbNo))\n",
        "    noise_mean = 0\n",
        "    no_errors = 0\n",
        "    noise = noise_std * np.random.randn(100000,2*n)\n",
        "    encoded_signal = encoder.predict(test_data) \n",
        "    final_signal = encoded_signal + noise\n",
        "    pred_final_signal =  decoder.predict(final_signal)\n",
        "    \n",
        "    #pred_output = np.where(pred_final_signal >= 0.5 , 1, 0)\n",
        "    ber[i] = K.mean(K.cast(K.not_equal(test_data, K.round(pred_final_signal)),dtype='float32')).numpy()\n",
        "    print ('SNR:',EbNodB_range[i],'BER:',ber[i])"
      ],
      "execution_count": null,
      "outputs": [
        {
          "output_type": "stream",
          "text": [
            "SNR: 0 BER: 0.02602039\n",
            "SNR: 1 BER: 0.014830156\n",
            "SNR: 2 BER: 0.0075160936\n",
            "SNR: 3 BER: 0.0032777344\n",
            "SNR: 4 BER: 0.0011934375\n",
            "SNR: 5 BER: 0.00034648436\n",
            "SNR: 6 BER: 8.234375e-05\n",
            "SNR: 7 BER: 1.5625e-05\n",
            "SNR: 8 BER: 1.875e-06\n",
            "SNR: 9 BER: 0.0\n",
            "SNR: 10 BER: 0.0\n"
          ],
          "name": "stdout"
        }
      ]
    },
    {
      "cell_type": "code",
      "metadata": {
        "id": "3JN_c-Qg2JCG"
      },
      "source": [
        "import matplotlib.pyplot as plt\n",
        "plt.plot(EbNodB_range, ber, 'bo',label='Autoencoder(7,4)')\n",
        "#plt.plot(list(EbNodB_range), ber_theory, 'ro-',label='BPSK BER')\n",
        "plt.yscale('log')\n",
        "plt.xlabel('SNR Range')\n",
        "plt.ylabel('Block Error Rate')\n",
        "plt.grid()\n",
        "plt.legend(loc='upper right',ncol = 1)\n",
        "plt.show()"
      ],
      "execution_count": null,
      "outputs": []
    }
  ]
}