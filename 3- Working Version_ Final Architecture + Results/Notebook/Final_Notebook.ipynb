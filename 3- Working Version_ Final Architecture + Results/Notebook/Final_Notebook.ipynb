{
  "nbformat": 4,
  "nbformat_minor": 0,
  "metadata": {
    "colab": {
      "name": "Final_Notebook.ipynb",
      "provenance": [],
      "collapsed_sections": [
        "KdsicDJW-t9l",
        "_F23gkwYxy1N",
        "ktGjzwf1y-d6",
        "9nKkGBbDy_6h"
      ]
    },
    "kernelspec": {
      "name": "python3",
      "display_name": "Python 3"
    },
    "language_info": {
      "name": "python"
    },
    "accelerator": "GPU"
  },
  "cells": [
    {
      "cell_type": "markdown",
      "metadata": {
        "id": "yVZGVpfCVMJ6"
      },
      "source": [
        "### Google Drive"
      ]
    },
    {
      "cell_type": "code",
      "metadata": {
        "colab": {
          "base_uri": "https://localhost:8080/"
        },
        "id": "3mpst_xQs96A",
        "outputId": "940980c3-8ab2-4a71-8f05-18731d102aeb"
      },
      "source": [
        "from google.colab import drive\n",
        "drive.mount('/content/drive')"
      ],
      "execution_count": null,
      "outputs": [
        {
          "output_type": "stream",
          "text": [
            "Mounted at /content/drive\n"
          ],
          "name": "stdout"
        }
      ]
    },
    {
      "cell_type": "markdown",
      "source": [
        "### Importing necessary packages"
      ],
      "metadata": {
        "id": "-uXLGhf2oQYB"
      }
    },
    {
      "cell_type": "code",
      "metadata": {
        "id": "ZTMumVQnv24u"
      },
      "source": [
        "import os\n",
        "os.environ['KERAS_BACKEND'] = 'tensorflow'\n",
        "from tensorflow.keras.utils import to_categorical\n",
        "from keras.layers import Dense, Dropout, Lambda, BatchNormalization, Input, Conv1D, TimeDistributed, Flatten, Activation, LSTM, Reshape\n",
        "from keras.models import Model\n",
        "from keras.callbacks import EarlyStopping, TensorBoard, History, ModelCheckpoint, ReduceLROnPlateau\n",
        "from keras import backend as KR\n",
        "import numpy as np\n",
        "import copy\n",
        "import time\n",
        "import matplotlib.pyplot as plt\n",
        "import tensorflow as tf\n",
        "from tensorflow.keras.optimizers import Adam\n",
        "import scipy.stats as ss\n"
      ],
      "execution_count": null,
      "outputs": []
    },
    {
      "cell_type": "markdown",
      "metadata": {
        "id": "QV35B6uecAyH"
      },
      "source": [
        "\n",
        " ## --- COMMUNICATION PARAMETERS ---"
      ]
    },
    {
      "cell_type": "code",
      "metadata": {
        "id": "T26gtZSDaB9F",
        "colab": {
          "base_uri": "https://localhost:8080/"
        },
        "outputId": "f3ab638c-7544-45af-c239-1f13c37f7925"
      },
      "source": [
        "\n",
        "blocklength=128 # blocklength of the symbol : n\n",
        "k = 1 #  code rate K where k is the numerator in R=K/N \n",
        "n = 8 # code rate N  where n is the numerator in R=K/N\n",
        "R = k/n # coding rate R_cod\n",
        "k_mod = 2  # modulation rate k_mod\n",
        "print(\"M= \",blocklength*k_mod/n)\n",
        "M = int(blocklength*k_mod/n) # Input size (M*k,1)\n",
        "train_Eb_dB = 5 # Eb/N0 used for training\n",
        "print(train_Eb_dB+10*np.log10(k_mod))\n",
        "noise_sigma = np.sqrt(1 / (2 * k_mod  * 10 ** (train_Eb_dB / 10))) # Noise Standard Deviation\n",
        "\n",
        "batch_size = 500 # Number of messages used for training, each size = k*M\n",
        "nb_train_word = 100000 # training samples"
      ],
      "execution_count": null,
      "outputs": [
        {
          "output_type": "stream",
          "name": "stdout",
          "text": [
            "M=  32.0\n",
            "8.010299956639813\n"
          ]
        }
      ]
    },
    {
      "cell_type": "markdown",
      "metadata": {
        "id": "E1Q0TYsXcHRk"
      },
      "source": [
        "## --- DATA GENERATION ---"
      ]
    },
    {
      "cell_type": "code",
      "metadata": {
        "id": "YZCbxlkhaFZn"
      },
      "source": [
        "# Generate training binary Data\n",
        "train_data = np.random.randint(low=0, high=2, size=(nb_train_word, M*k,1))"
      ],
      "execution_count": null,
      "outputs": []
    },
    {
      "cell_type": "code",
      "metadata": {
        "colab": {
          "base_uri": "https://localhost:8080/"
        },
        "id": "dh17ET6BC5Zc",
        "outputId": "263b1bbe-0672-4324-98e9-ed2fce8a0ed1"
      },
      "source": [
        "train_data.shape # input shape"
      ],
      "execution_count": null,
      "outputs": [
        {
          "output_type": "execute_result",
          "data": {
            "text/plain": [
              "(100000, 32, 1)"
            ]
          },
          "metadata": {},
          "execution_count": 31
        }
      ]
    },
    {
      "cell_type": "markdown",
      "metadata": {
        "id": "ilxDM0eFcOtA"
      },
      "source": [
        "## --- MODEL HYPERPARAMETERS ---\n"
      ]
    },
    {
      "cell_type": "code",
      "metadata": {
        "colab": {
          "base_uri": "https://localhost:8080/"
        },
        "id": "p5bdHka1azLX",
        "outputId": "8779dda4-03e2-46b4-c3a1-0dda3bb25175"
      },
      "source": [
        "early_stopping_patience = 100 # early stopping in training if no improvement\n",
        "epochs = 100 # number of epochs \n",
        "optimizer = Adam(lr=0.001) \n",
        "early_stopping = EarlyStopping(monitor='val_loss',\n",
        "                               patience=early_stopping_patience)\n",
        "# Learning Rate Control (reduce learing rate if no improvement for a number of iteration)\n",
        "reduce_lr = ReduceLROnPlateau(monitor='loss', factor=0.1,\n",
        "                              patience=10, min_lr=0.000001) \n",
        "# Save the best results based on Training Set\n",
        "modelcheckpoint = ModelCheckpoint(filepath='./' + 'Model ( k_mod=  ' + str(k_mod) + ' k= ' + str(k) + ' n= ' + str(n) + ' SNR= ' + str(train_Eb_dB) + 'dB' + ' ' + 'AWGN)' + '.h5',\n",
        "                                  monitor='loss',\n",
        "                                  verbose=1,\n",
        "                                  save_best_only=True,\n",
        "                                  save_weights_only=True,\n",
        "                                  mode='auto', period=1)\n",
        "\n"
      ],
      "execution_count": null,
      "outputs": [
        {
          "output_type": "stream",
          "name": "stdout",
          "text": [
            "WARNING:tensorflow:`period` argument is deprecated. Please use `save_freq` to specify the frequency in number of batches seen.\n"
          ]
        },
        {
          "output_type": "stream",
          "name": "stderr",
          "text": [
            "/usr/local/lib/python3.7/dist-packages/keras/optimizer_v2/optimizer_v2.py:356: UserWarning: The `lr` argument is deprecated, use `learning_rate` instead.\n",
            "  \"The `lr` argument is deprecated, use `learning_rate` instead.\")\n"
          ]
        }
      ]
    },
    {
      "cell_type": "markdown",
      "metadata": {
        "id": "7Jh7SE13hSd1"
      },
      "source": [
        "## ---DEFINING FUNCTIONS ---"
      ]
    },
    {
      "cell_type": "markdown",
      "metadata": {
        "id": "xfmP3bWUD2pW"
      },
      "source": [
        "##Normalization Function"
      ]
    },
    {
      "cell_type": "code",
      "metadata": {
        "id": "wd0BkJRua8EE"
      },
      "source": [
        "# Define Power Norm for Tx\n",
        "def equal_power_constraint(x): # average sample per sample ( power of the sample = n)\n",
        "    #mean=KR.mean(KR.sum(x**2,axis=2),axis=1)\n",
        "    mean = KR.mean(x ** 2)\n",
        "    return x / KR.sqrt(2*mean)\n",
        "\n",
        "def maximum_power_constraint(x): # average sample per sample ( power of the sample <= n)\n",
        "    norm = KR.sum(KR.sum(x**2,axis=2),axis=1)\n",
        "    norm_check = tf.where(tf.less_equal(norm,x.shape[1]),tf.ones(x.shape[0]), KR.cast(KR.sqrt(norm/x.shape[1]),'float32'))\n",
        "    return x / norm_check[:,None,None]\n",
        "\n",
        "def average_power_constraint(x): # average on all batch samples (power of all batch samples <= n)\n",
        "  norm = KR.mean(KR.sum(KR.sum(x**2,axis=2),axis=1))\n",
        "  norm_check = tf.where(tf.less_equal(norm,x.shape[1]),1.0, KR.cast(KR.sqrt(norm/x.shape[1]),'float32'))\n",
        "  return x / norm_check\n",
        "\n",
        "def normalize(x): # batch normalization\n",
        "    x_mean, x_var = tf.nn.moments(x,[0,1])   \n",
        "    x = (x-x_mean)*1.0/tf.sqrt(2*x_var)\n",
        "    return x"
      ],
      "execution_count": null,
      "outputs": []
    },
    {
      "cell_type": "markdown",
      "metadata": {
        "id": "ZFv3bcZzD_g-"
      },
      "source": [
        "##Channel Layer"
      ]
    },
    {
      "cell_type": "markdown",
      "metadata": {
        "id": "IjDuhVCJ-yAG"
      },
      "source": [
        "#### AWGN"
      ]
    },
    {
      "cell_type": "code",
      "metadata": {
        "id": "aQuN2gKqEAv8"
      },
      "source": [
        "# Define Channel Layer including AWGN \n",
        "#  x: input data\n",
        "#  sigma: noise std\n",
        "def channel_layer(x, sigma):\n",
        "    w = KR.random_normal(KR.shape(x), mean=0.0, stddev=sigma)\n",
        "    return x + w\n",
        "\n"
      ],
      "execution_count": null,
      "outputs": []
    },
    {
      "cell_type": "markdown",
      "metadata": {
        "id": "KdsicDJW-t9l"
      },
      "source": [
        "#### Rayleigh ( Not working )"
      ]
    },
    {
      "cell_type": "code",
      "metadata": {
        "id": "pp5NjpRASaQl"
      },
      "source": [
        "# Rayleigh fading (Not working)\n",
        "#def Rayleigh_Channel(x,sigma): \n",
        "#      #noise\n",
        "#      noise = KR.random_normal(KR.shape(x), mean=0.0, stddev=sigma) \n",
        "#      # Rayleigh fading\n",
        "#      uu = KR.random_normal((KR.shape(x)[0],1,1), mean=0.0, stddev=tf.sqrt(0.5),dtype='float32')\n",
        "#      vv = KR.random_normal((KR.shape(x)[0],1,1), mean=0.0, stddev=tf.sqrt(0.5),dtype='float32') # (500,)*(500,128,2)\n",
        "#      rayleigh_coeff = tf.sqrt(uu**2 + vv**2)                \n",
        "#      received = (rayleigh_coeff*x + noise )/rayleigh_coeff\n",
        "#      return received\n",
        "#def Complex_Rayleigh_layer(x, sigma):\n",
        "#    h_i= tf.random.normal(shape=(x.shape[0],1), mean=0.0,stddev=0.5,dtype='float32')\n",
        "#    h_r= tf.random.normal(shape=(x.shape[0],1), mean=0.0,stddev=0.5,dtype='float32')\n",
        "#    h_complex = tf.complex(real=h_r, imag=h_i)\n",
        "#    x_real = tf.cast(x[:, :, 0],dtype='float32')\n",
        "#    x_imag = tf.cast(x[:, :, 1],dtype='float32')\n",
        "#    x_complex = tf.complex(real=x_real, imag=x_imag)\n",
        "#    noise = tf.cast(tf.random.normal(shape=tf.shape(x_complex), mean=0.0, stddev=sigma, dtype=tf.float32),\n",
        "#                    tf.complex64)\n",
        "    #noise = tf.complex(\n",
        "    #    real=tf.random_normal(shape=tf.shape(input_layer_complex), mean=0.0, stddev=std, dtype=tf.float32),\n",
        "    #    imag=tf.random_normal(shape=tf.shape(input_layer_complex), mean=0.0, stddev=std, dtype=tf.float32))\n",
        "    #output_complex = tf.multiply(tf.add(tf.multiply(h_complex, x_complex), noise),1/h_complex)\n",
        "#    output_complex = tf.multiply(tf.add(tf.multiply(h_complex, x_complex), noise),1/tf.cast(tf.abs(h_complex[0])**2,dtype=tf.complex64))\n",
        "\n",
        "#    output_complex_reshape = tf.reshape(output_complex, [-1, blocklength, 1])\n",
        "#    return tf.concat([tf.math.real(output_complex_reshape), tf.math.imag(output_complex_reshape)], -1)"
      ],
      "execution_count": null,
      "outputs": []
    },
    {
      "cell_type": "markdown",
      "metadata": {
        "id": "KjpauV9iECGt"
      },
      "source": [
        "##Metrics"
      ]
    },
    {
      "cell_type": "code",
      "metadata": {
        "id": "OuZ9T4bBHAp5"
      },
      "source": [
        "def BER(y, y_pred): # calculate the bit error rate \n",
        "  hamming_distances =  tf.cast(tf.not_equal(y, tf.round(y_pred)), tf.int32)\n",
        "  ber = tf.reduce_sum(hamming_distances) / tf.size(y)\n",
        "  return ber\n",
        "  \n",
        "def BLER(y, y_pred): # calculate the block error rate\n",
        "    num_blocks_per_batch = tf.cast(tf.shape(y)[0], tf.int32)\n",
        "    hamming_distances =  tf.cast(tf.not_equal(y, tf.round(y_pred)), tf.int32)\n",
        "    bler = tf.reduce_sum(tf.cast(tf.reduce_sum(hamming_distances, axis=1)>0,tf.int32)) / num_blocks_per_batch\n",
        "    return bler"
      ],
      "execution_count": null,
      "outputs": []
    },
    {
      "cell_type": "markdown",
      "metadata": {
        "id": "w9jzMgjZcosO"
      },
      "source": [
        "## ---MODEL---"
      ]
    },
    {
      "cell_type": "code",
      "metadata": {
        "colab": {
          "base_uri": "https://localhost:8080/"
        },
        "id": "iv_VRTCPa_Eu",
        "outputId": "a15ce3e2-24dd-46df-dec3-6b937c35d99b"
      },
      "source": [
        "    #Input\n",
        "    model_input = Input(batch_shape=(batch_size, M*k,1), name='input_bits') \n",
        "\n",
        "    ### ----------------------------------Encoding--------------------------------------\n",
        "    e = Conv1D(filters=100, strides=k, kernel_size=5,padding=\"same\", name='e_0')(model_input)\n",
        "    e = BatchNormalization()(e)\n",
        "    e = Activation('elu')(e)\n",
        "\n",
        "    e = Conv1D(filters=100, strides=1, kernel_size=5,padding=\"same\")(e)\n",
        "    e = BatchNormalization()(e)\n",
        "    e = Activation('elu')(e)\n",
        "\n",
        "    e = Conv1D(filters=n, strides=1, kernel_size=1 ,padding='same',)(e)\n",
        "    e = BatchNormalization()(e)\n",
        "    e = Activation('elu')(e)\n",
        "\n",
        "    e = Reshape((int(M*n/k_mod),k_mod))(e)\n",
        "\n",
        "    ### -------------------------Modulation-----------------------------\n",
        "    e = Conv1D(filters=20, strides=1, kernel_size=5,padding=\"same\", name='e_1',)(e)\n",
        "    e = BatchNormalization(name='e_2')(e)\n",
        "    e = Activation('elu', name='e_3')(e)\n",
        "\n",
        "    e = Conv1D(filters=2, strides=1, kernel_size=1, name='e_4')(e)\n",
        "\n",
        "    ### ------------------Normalization (different types of power normalization)--------------------\n",
        "\n",
        "    #e_norm = BatchNormalization(momentum=0, center=False, scale=False)(e)\n",
        "    e_norm = Lambda(average_power_constraint, name='normalization_layer')(e)\n",
        "    #e_norm = Lambda(equal_power_constraint, name='normalization_layer')(e)\n",
        "    #e_norm = Lambda(maximum_power_constraint, name='normalization_layer')(e)\n",
        "    #e_norm = Lambda(normalize, name='normalization_layer')(e)\n",
        "\n",
        "    # --------------------------------AWGN channel----------------------------\n",
        "    #y_h = Lambda(Rayleigh_Channel, arguments={'sigma': noise_sigma}, name='channel_layer')(e_norm)\n",
        "    y_h = Lambda(channel_layer, arguments={'sigma': noise_sigma})(e_norm)\n",
        "\n",
        "    # -------------------------------------Demodulation------------------------------\n",
        "    d = Conv1D(filters=20, strides=1, kernel_size=5,padding=\"same\", name='d_1')(y_h)\n",
        "    d = BatchNormalization(name='d_2')(d)\n",
        "    d = Activation('elu', name='d_3')(d)\n",
        "\n",
        "    d = Conv1D(filters=k_mod, strides=1, kernel_size=1, name='d_4')(d)\n",
        "    d = BatchNormalization(name='d_5')(d)\n",
        "    d = Reshape((M,n))(d)\n",
        "\n",
        "\n",
        "    ### -----------------------------Decoding------------------------\n",
        "    d = Conv1D(filters=100, strides=1, kernel_size=5,padding=\"same\", name='d_7')(d)\n",
        "    d = BatchNormalization(name='d_8')(d)\n",
        "    d = Activation('elu', name='d_9')(d)\n",
        "\n",
        "    d = Conv1D(filters=100, strides=1, kernel_size=5,padding=\"same\")(d)\n",
        "    d = BatchNormalization()(d)\n",
        "    d = Activation('elu')(d)\n",
        "\n",
        "    d=Conv1D(filters=k,kernel_size=1,padding='same',activation=\"sigmoid\")(d)\n",
        "    #d = TimeDistributed(Dense(k),name='d_10')(d)\n",
        "    #d = BatchNormalization(name='d_11')(d)\n",
        "    model_output = Reshape((M*k,1))(d) # reshape output to input size\n",
        "    #model_output = Activation('sigmoid', name='d_13')(d)\n",
        "\n",
        "\n",
        "    # Build System Model\n",
        "    sys_model = Model(model_input, model_output) # whole model\n",
        "    encoder = Model(model_input, e) # encoder before normalizing \n",
        "    encoder_norm = Model(model_input, e_norm) # encoder after normalizing \n",
        "\n",
        "    # Print Model Architecture\n",
        "    sys_model.summary()\n",
        "\n",
        "    # Compile Model\n",
        "    sys_model.compile(optimizer=optimizer, loss='binary_crossentropy', metrics=['accuracy',BLER])\n",
        "    # print('encoder output:', '\\n', encoder.predict(vec_one_hot, batch_size=batch_size))\n",
        "\n"
      ],
      "execution_count": null,
      "outputs": [
        {
          "output_type": "stream",
          "name": "stdout",
          "text": [
            "Model: \"model_6\"\n",
            "_________________________________________________________________\n",
            "Layer (type)                 Output Shape              Param #   \n",
            "=================================================================\n",
            "input_bits (InputLayer)      [(500, 32, 1)]            0         \n",
            "_________________________________________________________________\n",
            "e_0 (Conv1D)                 (500, 32, 100)            600       \n",
            "_________________________________________________________________\n",
            "batch_normalization_8 (Batch (500, 32, 100)            400       \n",
            "_________________________________________________________________\n",
            "activation_8 (Activation)    (500, 32, 100)            0         \n",
            "_________________________________________________________________\n",
            "conv1d_8 (Conv1D)            (500, 32, 100)            50100     \n",
            "_________________________________________________________________\n",
            "batch_normalization_9 (Batch (500, 32, 100)            400       \n",
            "_________________________________________________________________\n",
            "activation_9 (Activation)    (500, 32, 100)            0         \n",
            "_________________________________________________________________\n",
            "conv1d_9 (Conv1D)            (500, 32, 8)              808       \n",
            "_________________________________________________________________\n",
            "batch_normalization_10 (Batc (500, 32, 8)              32        \n",
            "_________________________________________________________________\n",
            "activation_10 (Activation)   (500, 32, 8)              0         \n",
            "_________________________________________________________________\n",
            "reshape_6 (Reshape)          (500, 128, 2)             0         \n",
            "_________________________________________________________________\n",
            "e_1 (Conv1D)                 (500, 128, 20)            220       \n",
            "_________________________________________________________________\n",
            "e_2 (BatchNormalization)     (500, 128, 20)            80        \n",
            "_________________________________________________________________\n",
            "e_3 (Activation)             (500, 128, 20)            0         \n",
            "_________________________________________________________________\n",
            "e_4 (Conv1D)                 (500, 128, 2)             42        \n",
            "_________________________________________________________________\n",
            "normalization_layer (Lambda) (500, 128, 2)             0         \n",
            "_________________________________________________________________\n",
            "lambda_2 (Lambda)            (500, 128, 2)             0         \n",
            "_________________________________________________________________\n",
            "d_1 (Conv1D)                 (500, 128, 20)            220       \n",
            "_________________________________________________________________\n",
            "d_2 (BatchNormalization)     (500, 128, 20)            80        \n",
            "_________________________________________________________________\n",
            "d_3 (Activation)             (500, 128, 20)            0         \n",
            "_________________________________________________________________\n",
            "d_4 (Conv1D)                 (500, 128, 2)             42        \n",
            "_________________________________________________________________\n",
            "d_5 (BatchNormalization)     (500, 128, 2)             8         \n",
            "_________________________________________________________________\n",
            "reshape_7 (Reshape)          (500, 32, 8)              0         \n",
            "_________________________________________________________________\n",
            "d_7 (Conv1D)                 (500, 32, 100)            4100      \n",
            "_________________________________________________________________\n",
            "d_8 (BatchNormalization)     (500, 32, 100)            400       \n",
            "_________________________________________________________________\n",
            "d_9 (Activation)             (500, 32, 100)            0         \n",
            "_________________________________________________________________\n",
            "conv1d_10 (Conv1D)           (500, 32, 100)            50100     \n",
            "_________________________________________________________________\n",
            "batch_normalization_11 (Batc (500, 32, 100)            400       \n",
            "_________________________________________________________________\n",
            "activation_11 (Activation)   (500, 32, 100)            0         \n",
            "_________________________________________________________________\n",
            "conv1d_11 (Conv1D)           (500, 32, 1)              101       \n",
            "_________________________________________________________________\n",
            "reshape_8 (Reshape)          (500, 32, 1)              0         \n",
            "=================================================================\n",
            "Total params: 108,133\n",
            "Trainable params: 107,233\n",
            "Non-trainable params: 900\n",
            "_________________________________________________________________\n"
          ]
        }
      ]
    },
    {
      "cell_type": "markdown",
      "metadata": {
        "id": "XOipOae4cu3c"
      },
      "source": [
        "## ---TRAINING----"
      ]
    },
    {
      "cell_type": "code",
      "metadata": {
        "colab": {
          "base_uri": "https://localhost:8080/"
        },
        "id": "4tkF6ktPuDRa",
        "outputId": "ab7b9974-c2ce-40eb-db50-414eec9681b8"
      },
      "source": [
        "# save model if needed\n",
        "%cd drive/MyDrive/Saved\\ models/"
      ],
      "execution_count": null,
      "outputs": [
        {
          "output_type": "stream",
          "text": [
            "[Errno 2] No such file or directory: 'drive/MyDrive/Saved models/'\n",
            "/content\n"
          ],
          "name": "stdout"
        }
      ]
    },
    {
      "cell_type": "code",
      "metadata": {
        "id": "RPZxv9P7dNqO"
      },
      "source": [
        "print('starting train the NN...')\n",
        "start = time.clock() \n",
        "\n",
        "# TRAINING\n",
        "mod_history = sys_model.fit(train_data, train_data,\n",
        "                            batch_size=batch_size,\n",
        "                            epochs=epochs,\n",
        "                            verbose=1,\n",
        "                            callbacks=[modelcheckpoint,reduce_lr])\n",
        "\n",
        "end = time.clock()\n",
        "\n",
        "print('The NN has trained ' + str(end - start) + ' s')"
      ],
      "execution_count": null,
      "outputs": []
    },
    {
      "cell_type": "code",
      "metadata": {
        "id": "9ax7wK3DyJ2B"
      },
      "source": [
        "# Plot the Training Loss and Validation Loss\n",
        "hist_dict = mod_history.history\n",
        "\n",
        "#val_loss = hist_dict['val_loss']\n",
        "loss = hist_dict['loss']\n",
        "acc = hist_dict['accuracy']\n",
        "# val_acc = hist_dict['val_acc']\n",
        "#print('loss:',loss)\n",
        "#print('val_loss:',val_loss)\n",
        "\n",
        "epoch = np.arange(1, epochs + 1)\n",
        "\n",
        "#plt.semilogy(epoch,val_loss,label='val_loss')\n",
        "plt.semilogy(epoch, loss, label='loss')\n",
        "\n",
        "plt.legend(loc=0)\n",
        "plt.grid('true')\n",
        "plt.xlabel('epochs')\n",
        "plt.ylabel('Binary cross-entropy loss')\n",
        "\n",
        "plt.show()\n"
      ],
      "execution_count": null,
      "outputs": []
    },
    {
      "cell_type": "markdown",
      "metadata": {
        "id": "7O4zPztyLN-O"
      },
      "source": [
        "#### Testing Normalization layer"
      ]
    },
    {
      "cell_type": "code",
      "metadata": {
        "id": "VPl209yb2wpP"
      },
      "source": [
        " # testing on small batch (=8) \n",
        "a = np.random.randint(low=0, high=2, size=(8,L*k,1)) # generate random input \n",
        "out=encoder_norm(a).numpy() # apply encoding + normalization"
      ],
      "execution_count": null,
      "outputs": []
    },
    {
      "cell_type": "code",
      "metadata": {
        "colab": {
          "base_uri": "https://localhost:8080/"
        },
        "id": "U6SKvhXRH47v",
        "outputId": "d15be9bc-dc61-4e8c-c920-f57227057654"
      },
      "source": [
        "(((out**2)).sum(axis=2).sum(axis=1)).mean() # calculate the power of the whole batch"
      ],
      "execution_count": null,
      "outputs": [
        {
          "output_type": "execute_result",
          "data": {
            "text/plain": [
              "128.0"
            ]
          },
          "metadata": {},
          "execution_count": 13
        }
      ]
    },
    {
      "cell_type": "markdown",
      "metadata": {
        "id": "kBtXWGxWeau4"
      },
      "source": [
        "## --- TESTING DATA GENERATION ---"
      ]
    },
    {
      "cell_type": "code",
      "metadata": {
        "id": "HChBVYz9eVM1"
      },
      "source": [
        "nb_test_word = 100000 # Testing data size\n",
        "test_data = np.random.randint(low=0, high=2, size=(nb_test_word, M*k,1)) # generate random binary data"
      ],
      "execution_count": null,
      "outputs": []
    },
    {
      "cell_type": "markdown",
      "metadata": {
        "id": "sK2LFiMdhdaB"
      },
      "source": [
        "## --- Simulation ---"
      ]
    },
    {
      "cell_type": "markdown",
      "metadata": {
        "id": "dOcjeikoMEY-"
      },
      "source": [
        "#### Testing at a specific SNR\n",
        "\n",
        "HERE WE CHOOSE THE SPECIFIC Eb_N0_dB WE WANT TO TEST THE TRAINED MODEL ON. WE CHOOSE A CLOSE VALUE TO THE TRAINING Eb_N0 AND WE CHECK IF IT SATISFIES ϵ = $10^{-2}$. IF NOT WE CHANGE THE Eb_N0_dB UNTIL WE FIND THE ONE THAT SATISFIES THAT ERROR ϵ "
      ]
    },
    {
      "cell_type": "code",
      "metadata": {
        "id": "7X_4XJ2Gobxr"
      },
      "source": [
        "    Eb_N0_dB=6.5\n",
        "    # Noise Sigma at this Eb\n",
        "    noise_sigma = np.sqrt(1 / (2  * k_mod * R * 10 ** (Eb_N0_dB / 10))) # Noise Standard Deviation\n",
        "\n",
        "\n",
        "    model_input = Input(batch_shape=(batch_size, M*k,1), name='input_bits')\n",
        "\n",
        "    ### --------------------------Encoding-----------------------------------\n",
        "    e = Conv1D(filters=100, strides=k, kernel_size=5,padding=\"same\", name='e_0')(model_input)\n",
        "    e = BatchNormalization()(e)\n",
        "    e = Activation('elu')(e)\n",
        "\n",
        "    e = Conv1D(filters=100, strides=1, kernel_size=5,padding=\"same\")(e)\n",
        "    e = BatchNormalization()(e)\n",
        "    e = Activation('elu')(e)\n",
        "\n",
        "    e = Conv1D(filters=n, strides=1, kernel_size=1 ,padding='same',)(e)\n",
        "    e = BatchNormalization()(e)\n",
        "    e = Activation('elu')(e)\n",
        "\n",
        "    e = Reshape((int(M*n/k_mod),k_mod))(e)\n",
        "\n",
        "    ### -----------------------------Modulation-----------------------------\n",
        "    e = Conv1D(filters=20, strides=1, kernel_size=5,padding=\"same\", name='e_1',)(e)\n",
        "    e = BatchNormalization(name='e_2')(e)\n",
        "    e = Activation('elu', name='e_3')(e)\n",
        "\n",
        "    e = Conv1D(filters=2, strides=1, kernel_size=1, name='e_4')(e)\n",
        "\n",
        "    ### ---------------------Normalization---------------------------\n",
        "    #e_norm = BatchNormalization(momentum=0, center=False, scale=False)(e)\n",
        "    e_norm = Lambda(average_power_constraint, name='normalization_layer')(e)\n",
        "    #e_norm = Lambda(equal_power_constraint, name='normalization_layer')(e)\n",
        "    #e_norm = Lambda(maximum_power_constraint, name='normalization_layer')(e)\n",
        "    #e_norm = Lambda(normalize, name='normalization_layer')(e)\n",
        "\n",
        "    #---------------------------- AWGN channel--------------------------\n",
        "    #y_h = Lambda(Rayleigh_Channel, arguments={'sigma': noise_sigma}, name='channel_layer')(e_norm)\n",
        "    y_h = Lambda(channel_layer, arguments={'sigma': noise_sigma})(e_norm)\n",
        "\n",
        "    # ------------------------------Demodulation-----------------\n",
        "    d = Conv1D(filters=20, strides=1, kernel_size=5,padding=\"same\", name='d_1')(y_h)\n",
        "    d = BatchNormalization(name='d_2')(d)\n",
        "    d = Activation('elu', name='d_3')(d)\n",
        "\n",
        "    d = Conv1D(filters=k_mod, strides=1, kernel_size=1, name='d_4')(d)\n",
        "    d = BatchNormalization(name='d_5')(d)\n",
        "    d = Reshape((M,n))(d)\n",
        "\n",
        "\n",
        "    ###----------------------------- Decoding --------------------------\n",
        "    d = Conv1D(filters=100, strides=1, kernel_size=5,padding=\"same\", name='d_7')(d)\n",
        "    d = BatchNormalization(name='d_8')(d)\n",
        "    d = Activation('elu', name='d_9')(d)\n",
        "\n",
        "    d = Conv1D(filters=100, strides=1, kernel_size=5,padding=\"same\")(d)\n",
        "    d = BatchNormalization()(d)\n",
        "    d = Activation('elu')(d)\n",
        "\n",
        "    d=Conv1D(filters=k,kernel_size=1,padding='same',activation=\"sigmoid\")(d)\n",
        "    #d = TimeDistributed(Dense(k),name='d_10')(d)\n",
        "    #d = BatchNormalization(name='d_11')(d)\n",
        "    model_output = Reshape((M*k,1))(d)\n",
        "    #model_output = Activation('sigmoid', name='d_13')(d)\n",
        "\n",
        "     \n",
        "    # Build the model\n",
        "    model = Model(inputs=model_input, outputs=model_output)\n",
        "\n",
        "    encoder = Model(model_input,e)\n",
        "    # Load Weights from the trained NN\n",
        "    model.load_weights('./' + 'Model ( k_mod=  ' + str(k_mod) + ' k= ' + str(k) + ' n= ' + str(n) + ' SNR= ' + str(train_Eb_dB) + 'dB' + ' ' + 'AWGN)' + '.h5',\n",
        "                       by_name=False)\n",
        "\n",
        "    '''\n",
        "    RUN THE NN\n",
        "    '''\n",
        "\n",
        "    # RUN Through the Model and get output\n",
        "    decoder_output = model.predict(test_data, batch_size=batch_size)\n",
        "\n",
        "    '''\n",
        "     --- CALULATE BLER ---\n",
        "    '''\n",
        "\n",
        "\n",
        "    bler = BLER(test_data,decoder_output).numpy()\n",
        "    print('Eb/N0 = ', Eb_N0_dB,'BLER = ', bler)\n",
        "\n",
        "\n"
      ],
      "execution_count": null,
      "outputs": []
    },
    {
      "cell_type": "markdown",
      "metadata": {
        "id": "_F23gkwYxy1N"
      },
      "source": [
        "### BER"
      ]
    },
    {
      "cell_type": "markdown",
      "source": [
        "Show the BER values for a range of SNR ( e.g. 0-20 dB)."
      ],
      "metadata": {
        "id": "AQ7IizqNWqaz"
      }
    },
    {
      "cell_type": "code",
      "metadata": {
        "id": "r_IoLYRLhgyd"
      },
      "source": [
        "\n",
        "\n",
        "\n",
        "'''\n",
        " --- DEFINE THE Neural Network(NN) ---\n",
        "'''\n",
        "Vec_Eb_N0 = []\n",
        "Bit_error_rate = []\n",
        "# Eb_N0 in dB\n",
        "for Eb_N0_dB in range(0,11):\n",
        "\n",
        "    # Noise Sigma at this Eb\n",
        "    noise_sigma = np.sqrt(1 / (2  * k_mod * 10 ** (Eb_N0_dB / 10))) # Noise Standard Deviation\n",
        "\n",
        "\n",
        "    model_input = Input(batch_shape=(batch_size, M*k,1), name='input_bits')\n",
        "\n",
        "    ### Encoding\n",
        "    e = Conv1D(filters=100, strides=k, kernel_size=5,padding=\"same\", name='e_0')(model_input)\n",
        "    e = BatchNormalization()(e)\n",
        "    e = Activation('elu')(e)\n",
        "\n",
        "    e = Conv1D(filters=100, strides=1, kernel_size=5,padding=\"same\")(e)\n",
        "    e = BatchNormalization()(e)\n",
        "    e = Activation('elu')(e)\n",
        "\n",
        "    e = Conv1D(filters=n, strides=1, kernel_size=1 ,padding='same',)(e)\n",
        "    e = BatchNormalization()(e)\n",
        "    e = Activation('elu')(e)\n",
        "\n",
        "    e = Reshape((int(M*n/k_mod),k_mod))(e)\n",
        "\n",
        "    ### Modulation\n",
        "    e = Conv1D(filters=20, strides=1, kernel_size=5,padding=\"same\", name='e_1',)(e)\n",
        "    e = BatchNormalization(name='e_2')(e)\n",
        "    e = Activation('elu', name='e_3')(e)\n",
        "\n",
        "    e = Conv1D(filters=2, strides=1, kernel_size=1, name='e_4')(e)\n",
        "\n",
        "    ### Normalization\n",
        "    #e_norm = BatchNormalization(momentum=0, center=False, scale=False)(e)\n",
        "    e_norm = Lambda(average_power_constraint, name='normalization_layer')(e)\n",
        "    #e_norm = Lambda(equal_power_constraint, name='normalization_layer')(e)\n",
        "    #e_norm = Lambda(maximum_power_constraint, name='normalization_layer')(e)\n",
        "    #e_norm = Lambda(normalize, name='normalization_layer')(e)\n",
        "\n",
        "    # AWGN channel\n",
        "    #y_h = Lambda(Rayleigh_Channel, arguments={'sigma': noise_sigma}, name='channel_layer')(e_norm)\n",
        "    y_h = Lambda(channel_layer, arguments={'sigma': noise_sigma})(e_norm)\n",
        "\n",
        "    # Demodulation\n",
        "    d = Conv1D(filters=20, strides=1, kernel_size=5,padding=\"same\", name='d_1')(y_h)\n",
        "    d = BatchNormalization(name='d_2')(d)\n",
        "    d = Activation('elu', name='d_3')(d)\n",
        "\n",
        "    d = Conv1D(filters=k_mod, strides=1, kernel_size=1, name='d_4')(d)\n",
        "    d = BatchNormalization(name='d_5')(d)\n",
        "    d = Reshape((M,n))(d)\n",
        "\n",
        "\n",
        "    ### Decoding \n",
        "    d = Conv1D(filters=100, strides=1, kernel_size=5,padding=\"same\", name='d_7')(d)\n",
        "    d = BatchNormalization(name='d_8')(d)\n",
        "    d = Activation('elu', name='d_9')(d)\n",
        "\n",
        "    d = Conv1D(filters=100, strides=1, kernel_size=5,padding=\"same\")(d)\n",
        "    d = BatchNormalization()(d)\n",
        "    d = Activation('elu')(d)\n",
        "\n",
        "    d=Conv1D(filters=k,kernel_size=1,padding='same',activation=\"sigmoid\")(d)\n",
        "    #d = TimeDistributed(Dense(k),name='d_10')(d)\n",
        "    #d = BatchNormalization(name='d_11')(d)\n",
        "    model_output = Reshape((M*k,1))(d)\n",
        "    #model_output = Activation('sigmoid', name='d_13')(d)\n",
        "    # Build the model\n",
        "    model = Model(inputs=model_input, outputs=model_output)\n",
        "\n",
        "    encoder = Model(model_input,e)\n",
        "    # Load Weights from the trained NN\n",
        "    model.load_weights('./' + 'Model ( k_mod=  ' + str(k_mod) + ' k= ' + str(k) + ' n= ' + str(n) + ' SNR= ' + str(train_Eb_dB) + 'dB' + ' ' + 'AWGN)' + '.h5',\n",
        "                       by_name=False)\n",
        "\n",
        "    '''\n",
        "    RUN THE NN\n",
        "    '''\n",
        "\n",
        "    decoder_output = model.predict(test_data, batch_size=batch_size)\n",
        "\n",
        "    '''\n",
        "     --- CALULATE BER ---\n",
        "    '''\n",
        "\n",
        "\n",
        "    ber = BER(test_data,decoder_output).numpy()\n",
        "    print('Eb/N0 = ', Eb_N0_dB,'BER = ', ber)\n",
        "\n",
        "\n",
        "    # Store The Results\n",
        "    Vec_Eb_N0.append(Eb_N0_dB)\n",
        "    Bit_error_rate.append(ber)\n",
        "\n",
        "\n",
        "\n"
      ],
      "execution_count": null,
      "outputs": []
    },
    {
      "cell_type": "markdown",
      "metadata": {
        "id": "HY29rDY_x3xJ"
      },
      "source": [
        "## BLER\n",
        "Show the BER values for a range of SNR ( e.g. 0-20 dB)."
      ]
    },
    {
      "cell_type": "code",
      "metadata": {
        "colab": {
          "base_uri": "https://localhost:8080/"
        },
        "id": "Fl39S3mfx65K",
        "outputId": "50123573-7a4b-49ab-f323-5801ae6f0703"
      },
      "source": [
        "\n",
        "'''\n",
        " --- DEFINE THE Neural Network(NN) ---\n",
        "'''\n",
        "Vec_Eb_N0 = []\n",
        "Block_error_rate = []\n",
        "# Eb_N0 in dB\n",
        "for Eb_N0_dB in range(0,11):\n",
        "\n",
        "    # Noise Sigma at this Eb\n",
        "    noise_sigma = np.sqrt(1 / (2  * k_mod * 10 ** (Eb_N0_dB / 10))) # Noise Standard Deviation\n",
        "\n",
        "\n",
        "    model_input = Input(batch_shape=(batch_size, M*k,1), name='input_bits')\n",
        "\n",
        "    ### Encoding\n",
        "    e = Conv1D(filters=100, strides=k, kernel_size=5,padding=\"same\", name='e_0')(model_input)\n",
        "    e = BatchNormalization()(e)\n",
        "    e = Activation('elu')(e)\n",
        "\n",
        "    e = Conv1D(filters=100, strides=1, kernel_size=5,padding=\"same\")(e)\n",
        "    e = BatchNormalization()(e)\n",
        "    e = Activation('elu')(e)\n",
        "\n",
        "    e = Conv1D(filters=n, strides=1, kernel_size=1 ,padding='same',)(e)\n",
        "    e = BatchNormalization()(e)\n",
        "    e = Activation('elu')(e)\n",
        "\n",
        "    e = Reshape((int(M*n/k_mod),k_mod))(e)\n",
        "\n",
        "    ### Modulation\n",
        "    e = Conv1D(filters=20, strides=1, kernel_size=5,padding=\"same\", name='e_1',)(e)\n",
        "    e = BatchNormalization(name='e_2')(e)\n",
        "    e = Activation('elu', name='e_3')(e)\n",
        "\n",
        "    e = Conv1D(filters=2, strides=1, kernel_size=1, name='e_4')(e)\n",
        "\n",
        "    ### Normalization\n",
        "    #e_norm = BatchNormalization(momentum=0, center=False, scale=False)(e)\n",
        "    e_norm = Lambda(average_power_constraint, name='normalization_layer')(e)\n",
        "    #e_norm = Lambda(equal_power_constraint, name='normalization_layer')(e)\n",
        "    #e_norm = Lambda(maximum_power_constraint, name='normalization_layer')(e)\n",
        "    #e_norm = Lambda(normalize, name='normalization_layer')(e)\n",
        "\n",
        "    # AWGN channel\n",
        "    #y_h = Lambda(Rayleigh_Channel, arguments={'sigma': noise_sigma}, name='channel_layer')(e_norm)\n",
        "    y_h = Lambda(channel_layer, arguments={'sigma': noise_sigma})(e_norm)\n",
        "\n",
        "    # Demodulation\n",
        "    d = Conv1D(filters=20, strides=1, kernel_size=5,padding=\"same\", name='d_1')(y_h)\n",
        "    d = BatchNormalization(name='d_2')(d)\n",
        "    d = Activation('elu', name='d_3')(d)\n",
        "\n",
        "    d = Conv1D(filters=k_mod, strides=1, kernel_size=1, name='d_4')(d)\n",
        "    d = BatchNormalization(name='d_5')(d)\n",
        "    d = Reshape((M,n))(d)\n",
        "\n",
        "\n",
        "    ### Decoding \n",
        "    d = Conv1D(filters=100, strides=1, kernel_size=5,padding=\"same\", name='d_7')(d)\n",
        "    d = BatchNormalization(name='d_8')(d)\n",
        "    d = Activation('elu', name='d_9')(d)\n",
        "\n",
        "    d = Conv1D(filters=100, strides=1, kernel_size=5,padding=\"same\")(d)\n",
        "    d = BatchNormalization()(d)\n",
        "    d = Activation('elu')(d)\n",
        "\n",
        "    d=Conv1D(filters=k,kernel_size=1,padding='same',activation=\"sigmoid\")(d)\n",
        "    #d = TimeDistributed(Dense(k),name='d_10')(d)\n",
        "    #d = BatchNormalization(name='d_11')(d)\n",
        "    model_output = Reshape((M*k,1))(d)\n",
        "    #model_output = Activation('sigmoid', name='d_13')(d)\n",
        "\n",
        "     \n",
        "    # Build the model\n",
        "    model = Model(inputs=model_input, outputs=model_output)\n",
        "\n",
        "    encoder = Model(model_input,e)\n",
        "    # Load Weights from the trained NN\n",
        "    model.load_weights('./' + 'Model ( k_mod=  ' + str(k_mod) + ' k= ' + str(k) + ' n= ' + str(n) + ' SNR= ' + str(train_Eb_dB) + 'dB' + ' ' + 'AWGN)' + '.h5',\n",
        "                       by_name=False)\n",
        "\n",
        "    '''\n",
        "    RUN THE NN\n",
        "    '''\n",
        "\n",
        "    # RUN Through the Model and get output\n",
        "    decoder_output = model.predict(test_data, batch_size=batch_size)\n",
        "\n",
        "    '''\n",
        "     --- CALULATE BLER ---\n",
        "    '''\n",
        "\n",
        "    bler = BLER(test_data,decoder_output).numpy()\n",
        "    print('Eb/N0 = ', Eb_N0_dB,'BLER = ', bler)\n",
        "\n",
        "\n",
        "    # Store The Results\n",
        "    Vec_Eb_N0.append(Eb_N0_dB)\n",
        "    Block_error_rate.append(bler)"
      ],
      "execution_count": null,
      "outputs": [
        {
          "output_type": "stream",
          "name": "stdout",
          "text": [
            "Eb/N0 =  0 BLER =  0.87576\n",
            "Eb/N0 =  1 BLER =  0.74179\n",
            "Eb/N0 =  2 BLER =  0.5544\n",
            "Eb/N0 =  3 BLER =  0.35079\n",
            "Eb/N0 =  4 BLER =  0.17522\n",
            "Eb/N0 =  5 BLER =  0.06888\n",
            "Eb/N0 =  6 BLER =  0.02089\n",
            "Eb/N0 =  7 BLER =  0.00454\n",
            "Eb/N0 =  8 BLER =  0.00084\n",
            "Eb/N0 =  9 BLER =  7e-05\n",
            "Eb/N0 =  10 BLER =  1e-05\n"
          ]
        }
      ]
    },
    {
      "cell_type": "markdown",
      "metadata": {
        "id": "UyxmYMuxivAG"
      },
      "source": [
        "## --- PLOTTING ---"
      ]
    },
    {
      "cell_type": "markdown",
      "metadata": {
        "id": "ktGjzwf1y-d6"
      },
      "source": [
        "### BER"
      ]
    },
    {
      "cell_type": "code",
      "metadata": {
        "id": "hwFnajo1it6s",
        "colab": {
          "base_uri": "https://localhost:8080/",
          "height": 279
        },
        "outputId": "1e161a3f-d912-4e6d-dc74-f67734a17799"
      },
      "source": [
        "plt.semilogy(Vec_Eb_N0, Bit_error_rate, color='red')\n",
        "plt.xlabel('Eb/N0')\n",
        "plt.ylabel('BER')\n",
        "plt.grid('true')\n",
        "plt.show()"
      ],
      "execution_count": null,
      "outputs": [
        {
          "output_type": "display_data",
          "data": {
            "image/png": "[encoded data removed]",
            "text/plain": [
              "<Figure size 432x288 with 1 Axes>"
            ]
          },
          "metadata": {
            "needs_background": "light"
          }
        }
      ]
    },
    {
      "cell_type": "markdown",
      "metadata": {
        "id": "9nKkGBbDy_6h"
      },
      "source": [
        "### BLER"
      ]
    },
    {
      "cell_type": "code",
      "metadata": {
        "id": "VZDH1cnwptL1",
        "colab": {
          "base_uri": "https://localhost:8080/",
          "height": 279
        },
        "outputId": "a5a38f58-1dbb-441b-ca2c-008ef6925da5"
      },
      "source": [
        "plt.semilogy(Vec_Eb_N0, Block_error_rate, color='red')\n",
        "plt.xlabel('Eb/N0')\n",
        "plt.ylabel('BLER')\n",
        "plt.grid('true')\n",
        "plt.show()"
      ],
      "execution_count": null,
      "outputs": [
        {
          "output_type": "display_data",
          "data": {
            "image/png": "[encoded data removed]",
            "text/plain": [
              "<Figure size 432x288 with 1 Axes>"
            ]
          },
          "metadata": {
            "needs_background": "light"
          }
        }
      ]
    }
  ]
}